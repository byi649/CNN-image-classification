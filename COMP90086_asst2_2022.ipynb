{
 "cells": [
  {
   "cell_type": "markdown",
   "metadata": {},
   "source": [
    "## The University of Melbourne, School of Computing and Information Systems\n",
    "# COMP90086 Computer Vision, 2022 Semester 2\n",
    "\n",
    "## Assignment 2"
   ]
  },
  {
   "cell_type": "markdown",
   "metadata": {},
   "source": [
    "**Student Name:**    `PLEASE ENTER YOUR NAME HERE`\n",
    "\n",
    "**Student ID:**     `PLEASE ENTER YOUR ID HERE`"
   ]
  },
  {
   "cell_type": "markdown",
   "metadata": {},
   "source": [
    "## This iPython notebook is a template which you should use for your Assignment 2 submission. This file should be submitted at the **Assignment 2: Code** link on the LMS.\n",
    "\n",
    "In addition to this file, you should submit a written report explaining your results at the **Assignment 2: Report** link on the LMS. Please see the assignment specification for details on what must be included in the report for each question.\n",
    "\n",
    "*Adding proper comments to your code is MANDATORY.*"
   ]
  },
  {
   "cell_type": "markdown",
   "metadata": {},
   "source": [
    "### 1. CNN implementation\n",
    "\n",
    "In this problem, you will implement a CNN to classify the yoga32 dataset. The following code section will load the dataset from a folder that you specify. You may change the batch sizes and validation percentage if you wish, but otherwise it is recommended that you do not modify this section."
   ]
  },
  {
   "cell_type": "code",
   "execution_count": 31,
   "metadata": {
    "scrolled": true
   },
   "outputs": [
    {
     "name": "stdout",
     "output_type": "stream",
     "text": [
      "Found 520 files belonging to 10 classes.\n",
      "Using 416 files for training.\n",
      "Found 520 files belonging to 10 classes.\n",
      "Using 104 files for validation.\n",
      "['bridge', 'childs', 'downwarddog', 'mountain', 'plank', 'seatedforwardbend', 'tree', 'trianglepose', 'warrior1', 'warrior2']\n"
     ]
    }
   ],
   "source": [
    "import tensorflow as tf\n",
    "from tensorflow import keras\n",
    "from tensorflow.keras import layers\n",
    "from tensorflow.keras.models import Model\n",
    "from tensorflow.keras.preprocessing import image\n",
    "import numpy as np\n",
    "import matplotlib.pyplot as plt\n",
    "import matplotlib.cm as cm\n",
    "import math\n",
    "import secrets\n",
    "\n",
    "# Implementing fix from Ed discussion board:\n",
    "# https://edstem.org/au/courses/8647/discussion/993923\n",
    "from tensorflow.python.keras.preprocessing.image_dataset import image_dataset_from_directory\n",
    "\n",
    "data_dir = \"yoga32\"\n",
    "train_batch_size = 32\n",
    "rand_seed = secrets.randbelow(1_000_000_000) # random seed for train/val split\n",
    "# note that same seed must be used for both to ensure no overlap in train/val data\n",
    "\n",
    "# Get training images from 'train' directory\n",
    "train_data = image_dataset_from_directory(\n",
    "    data_dir+'/train',\n",
    "    validation_split=0.2,\n",
    "    subset=\"training\",\n",
    "    seed=rand_seed,\n",
    "    image_size=(32, 32),\n",
    "    batch_size=train_batch_size)\n",
    "\n",
    "# Get validation images from 'train' directory\n",
    "val_data = image_dataset_from_directory(\n",
    "    data_dir+'/train',\n",
    "    validation_split=0.2,\n",
    "    subset=\"validation\",\n",
    "    seed=rand_seed,\n",
    "    image_size=(32, 32),\n",
    "    batch_size=train_batch_size)\n",
    "\n",
    "# Output list of class names\n",
    "class_names = train_data.class_names\n",
    "print(class_names)\n",
    "\n",
    "# Note: To train a model with the dataset loaded above, pass the train and val\n",
    "# datasets to the fit() function, like so:\n",
    "# myCNNmodel.fit(train_data, validation_data=val_data, epochs=number_of_epochs)"
   ]
  },
  {
   "cell_type": "markdown",
   "metadata": {},
   "source": [
    "1.1. Implement the CNN shown in the assignment specification and train it on the provided dataset. Plot the training accuracy and validation accuracy over epochs."
   ]
  },
  {
   "cell_type": "code",
   "execution_count": 38,
   "metadata": {},
   "outputs": [
    {
     "name": "stdout",
     "output_type": "stream",
     "text": [
      "Epoch 1/20\n",
      "13/13 [==============================] - 1s 26ms/step - loss: 18.2043 - accuracy: 0.1010 - val_loss: 6.3492 - val_accuracy: 0.1346\n",
      "Epoch 2/20\n",
      "13/13 [==============================] - 0s 20ms/step - loss: 4.0626 - accuracy: 0.1418 - val_loss: 3.0752 - val_accuracy: 0.1346\n",
      "Epoch 3/20\n",
      "13/13 [==============================] - 0s 22ms/step - loss: 2.5717 - accuracy: 0.1995 - val_loss: 2.5534 - val_accuracy: 0.1827\n",
      "Epoch 4/20\n",
      "13/13 [==============================] - 0s 20ms/step - loss: 2.1799 - accuracy: 0.2524 - val_loss: 2.3889 - val_accuracy: 0.2019\n",
      "Epoch 5/20\n",
      "13/13 [==============================] - 0s 19ms/step - loss: 1.9795 - accuracy: 0.3125 - val_loss: 2.3813 - val_accuracy: 0.2596\n",
      "Epoch 6/20\n",
      "13/13 [==============================] - 0s 19ms/step - loss: 1.7525 - accuracy: 0.3798 - val_loss: 2.3331 - val_accuracy: 0.2885\n",
      "Epoch 7/20\n",
      "13/13 [==============================] - 0s 19ms/step - loss: 1.5672 - accuracy: 0.4688 - val_loss: 2.2575 - val_accuracy: 0.2500\n",
      "Epoch 8/20\n",
      "13/13 [==============================] - 0s 19ms/step - loss: 1.3909 - accuracy: 0.5072 - val_loss: 2.1238 - val_accuracy: 0.2885\n",
      "Epoch 9/20\n",
      "13/13 [==============================] - 0s 19ms/step - loss: 1.2296 - accuracy: 0.5913 - val_loss: 2.1374 - val_accuracy: 0.2788\n",
      "Epoch 10/20\n",
      "13/13 [==============================] - 0s 20ms/step - loss: 1.0446 - accuracy: 0.6562 - val_loss: 2.0492 - val_accuracy: 0.2981\n",
      "Epoch 11/20\n",
      "13/13 [==============================] - 0s 20ms/step - loss: 0.8865 - accuracy: 0.7380 - val_loss: 2.1187 - val_accuracy: 0.3654\n",
      "Epoch 12/20\n",
      "13/13 [==============================] - 0s 20ms/step - loss: 0.7975 - accuracy: 0.7596 - val_loss: 2.2022 - val_accuracy: 0.3462\n",
      "Epoch 13/20\n",
      "13/13 [==============================] - 0s 20ms/step - loss: 0.6517 - accuracy: 0.8269 - val_loss: 2.0551 - val_accuracy: 0.3462\n",
      "Epoch 14/20\n",
      "13/13 [==============================] - 0s 21ms/step - loss: 0.5669 - accuracy: 0.8510 - val_loss: 2.0136 - val_accuracy: 0.3462\n",
      "Epoch 15/20\n",
      "13/13 [==============================] - 0s 20ms/step - loss: 0.4838 - accuracy: 0.8846 - val_loss: 2.0293 - val_accuracy: 0.3365\n",
      "Epoch 16/20\n",
      "13/13 [==============================] - 0s 19ms/step - loss: 0.4102 - accuracy: 0.9062 - val_loss: 2.1052 - val_accuracy: 0.3558\n",
      "Epoch 17/20\n",
      "13/13 [==============================] - 0s 19ms/step - loss: 0.3765 - accuracy: 0.9231 - val_loss: 2.2096 - val_accuracy: 0.3558\n",
      "Epoch 18/20\n",
      "13/13 [==============================] - 0s 19ms/step - loss: 0.3084 - accuracy: 0.9279 - val_loss: 2.2222 - val_accuracy: 0.4038\n",
      "Epoch 19/20\n",
      "13/13 [==============================] - 0s 20ms/step - loss: 0.2554 - accuracy: 0.9591 - val_loss: 2.3328 - val_accuracy: 0.4231\n",
      "Epoch 20/20\n",
      "13/13 [==============================] - 0s 21ms/step - loss: 0.2066 - accuracy: 0.9615 - val_loss: 2.3011 - val_accuracy: 0.4135\n"
     ]
    },
    {
     "data": {
      "image/png": "[encoded data removed]",
      "text/plain": [
       "<Figure size 432x288 with 1 Axes>"
      ]
     },
     "metadata": {
      "needs_background": "light"
     },
     "output_type": "display_data"
    }
   ],
   "source": [
    "# Implement CNN\n",
    "CNN = keras.Sequential()\n",
    "CNN.add(layers.InputLayer((32, 32, 3)))\n",
    "CNN.add(layers.experimental.preprocessing.Rescaling(1./255))\n",
    "CNN.add(layers.Conv2D(16, (3, 3), activation=\"relu\"))\n",
    "CNN.add(layers.Conv2D(16, (3, 3), activation=\"relu\"))\n",
    "CNN.add(layers.MaxPool2D((2, 2)))\n",
    "CNN.add(layers.Conv2D(24, (3, 3), activation=\"relu\"))\n",
    "CNN.add(layers.Conv2D(24, (3, 3), activation=\"relu\"))\n",
    "CNN.add(layers.MaxPool2D((2, 2)))\n",
    "CNN.add(layers.Flatten())\n",
    "CNN.add(layers.Dense(10, activation=\"softmax\"))\n",
    "\n",
    "CNN.compile(optimizer='adam',\n",
    "            loss = tf.keras.losses.SparseCategoricalCrossentropy(from_logits=False),\n",
    "            metrics=['accuracy'])\n",
    "\n",
    "# Train CNN\n",
    "history = CNN.fit(train_data, validation_data=val_data, epochs=20)\n",
    "\n",
    "# Plot\n",
    "plt.plot(history.history['accuracy'], label='Train')\n",
    "plt.plot(history.history['val_accuracy'], label='Validation')\n",
    "plt.ylabel('Accuracy')\n",
    "plt.xlabel('Epoch')\n",
    "plt.title('Training and validating accuracy')\n",
    "plt.legend()\n",
    "plt.show()"
   ]
  },
  {
   "cell_type": "markdown",
   "metadata": {},
   "source": [
    "1.2. Modify the CNN (see assignment spec for details) and train it on the provided dataset.  Plot the training accuracy and validation accuracy over epochs."
   ]
  },
  {
   "cell_type": "code",
   "execution_count": 43,
   "metadata": {},
   "outputs": [
    {
     "name": "stdout",
     "output_type": "stream",
     "text": [
      "Epoch 1/20\n",
      "13/13 [==============================] - 1s 31ms/step - loss: 2.3186 - accuracy: 0.0986 - val_loss: 2.3139 - val_accuracy: 0.1250\n",
      "Epoch 2/20\n",
      "13/13 [==============================] - 0s 25ms/step - loss: 2.2940 - accuracy: 0.1322 - val_loss: 2.3084 - val_accuracy: 0.0962\n",
      "Epoch 3/20\n",
      "13/13 [==============================] - 0s 25ms/step - loss: 2.2863 - accuracy: 0.1346 - val_loss: 2.3074 - val_accuracy: 0.1538\n",
      "Epoch 4/20\n",
      "13/13 [==============================] - 0s 25ms/step - loss: 2.2742 - accuracy: 0.1611 - val_loss: 2.2865 - val_accuracy: 0.1827\n",
      "Epoch 5/20\n",
      "13/13 [==============================] - 0s 29ms/step - loss: 2.2326 - accuracy: 0.2067 - val_loss: 2.2450 - val_accuracy: 0.1635\n",
      "Epoch 6/20\n",
      "13/13 [==============================] - 0s 25ms/step - loss: 2.1685 - accuracy: 0.2091 - val_loss: 2.1195 - val_accuracy: 0.2404\n",
      "Epoch 7/20\n",
      "13/13 [==============================] - 0s 27ms/step - loss: 2.0826 - accuracy: 0.2644 - val_loss: 1.9985 - val_accuracy: 0.3077\n",
      "Epoch 8/20\n",
      "13/13 [==============================] - 0s 26ms/step - loss: 1.9502 - accuracy: 0.2837 - val_loss: 1.9416 - val_accuracy: 0.3462\n",
      "Epoch 9/20\n",
      "13/13 [==============================] - 0s 26ms/step - loss: 1.8880 - accuracy: 0.2957 - val_loss: 1.8160 - val_accuracy: 0.3750\n",
      "Epoch 10/20\n",
      "13/13 [==============================] - 0s 27ms/step - loss: 1.8302 - accuracy: 0.3678 - val_loss: 1.7382 - val_accuracy: 0.3846\n",
      "Epoch 11/20\n",
      "13/13 [==============================] - 0s 28ms/step - loss: 1.7747 - accuracy: 0.3726 - val_loss: 1.7327 - val_accuracy: 0.3846\n",
      "Epoch 12/20\n",
      "13/13 [==============================] - 0s 26ms/step - loss: 1.7745 - accuracy: 0.3702 - val_loss: 1.6143 - val_accuracy: 0.4904\n",
      "Epoch 13/20\n",
      "13/13 [==============================] - 0s 26ms/step - loss: 1.6691 - accuracy: 0.4183 - val_loss: 1.5384 - val_accuracy: 0.4615\n",
      "Epoch 14/20\n",
      "13/13 [==============================] - 0s 27ms/step - loss: 1.6358 - accuracy: 0.4255 - val_loss: 1.5838 - val_accuracy: 0.4519\n",
      "Epoch 15/20\n",
      "13/13 [==============================] - 0s 26ms/step - loss: 1.6509 - accuracy: 0.4351 - val_loss: 1.5310 - val_accuracy: 0.4615\n",
      "Epoch 16/20\n",
      "13/13 [==============================] - 0s 27ms/step - loss: 1.6317 - accuracy: 0.4567 - val_loss: 1.4899 - val_accuracy: 0.4808\n",
      "Epoch 17/20\n",
      "13/13 [==============================] - 0s 28ms/step - loss: 1.6427 - accuracy: 0.4399 - val_loss: 1.4992 - val_accuracy: 0.5000\n",
      "Epoch 18/20\n",
      "13/13 [==============================] - 0s 28ms/step - loss: 1.5662 - accuracy: 0.4591 - val_loss: 1.4250 - val_accuracy: 0.5096\n",
      "Epoch 19/20\n",
      "13/13 [==============================] - 0s 28ms/step - loss: 1.5025 - accuracy: 0.4784 - val_loss: 1.3930 - val_accuracy: 0.5385\n",
      "Epoch 20/20\n",
      "13/13 [==============================] - 0s 27ms/step - loss: 1.5316 - accuracy: 0.4736 - val_loss: 1.3967 - val_accuracy: 0.5096\n"
     ]
    },
    {
     "data": {
      "image/png": "[encoded data removed]",
      "text/plain": [
       "<Figure size 432x288 with 1 Axes>"
      ]
     },
     "metadata": {
      "needs_background": "light"
     },
     "output_type": "display_data"
    }
   ],
   "source": [
    "# Regularisation\n",
    "regularisation_layer = layers.Dropout(0.2)\n",
    "\n",
    "# Data augmentation\n",
    "data_augmentation_layer = keras.Sequential()\n",
    "data_augmentation_layer.add(layers.experimental.preprocessing.RandomFlip(\"horizontal\"))\n",
    "data_augmentation_layer.add(layers.experimental.preprocessing.RandomRotation(0.1))\n",
    "data_augmentation_layer.add(layers.experimental.preprocessing.RandomZoom(0.1))\n",
    "\n",
    "# Implement CNN_new\n",
    "CNN_new = keras.Sequential()\n",
    "CNN_new.add(layers.InputLayer((32, 32, 3)))\n",
    "CNN_new.add(layers.experimental.preprocessing.Rescaling(1./255))\n",
    "CNN_new.add(data_augmentation_layer)\n",
    "CNN_new.add(layers.Conv2D(16, (3, 3), activation=\"relu\"))\n",
    "CNN_new.add(layers.Conv2D(16, (3, 3), activation=\"relu\"))\n",
    "CNN_new.add(layers.MaxPool2D((2, 2)))\n",
    "CNN_new.add(layers.Conv2D(24, (3, 3), activation=\"relu\"))\n",
    "CNN_new.add(layers.Conv2D(24, (3, 3), activation=\"relu\"))\n",
    "CNN_new.add(layers.MaxPool2D((2, 2)))\n",
    "CNN_new.add(regularisation_layer)\n",
    "CNN_new.add(layers.Flatten())\n",
    "CNN_new.add(layers.Dense(10, activation=\"softmax\"))\n",
    "\n",
    "CNN_new.compile(optimizer='adam',\n",
    "            loss = tf.keras.losses.SparseCategoricalCrossentropy(from_logits=False),\n",
    "            metrics=['accuracy'])\n",
    "\n",
    "# Train CNN\n",
    "history_new = CNN_new.fit(train_data, validation_data=val_data, epochs=20)\n",
    "\n",
    "# Plot\n",
    "plt.plot(history_new.history['accuracy'], label='Train')\n",
    "plt.plot(history_new.history['val_accuracy'], label='Validation')\n",
    "plt.ylabel('Accuracy')\n",
    "plt.xlabel('Epoch')\n",
    "plt.title('Training and validating accuracy')\n",
    "plt.legend()\n",
    "plt.show()"
   ]
  },
  {
   "cell_type": "markdown",
   "metadata": {},
   "source": [
    "### 2. Error anaylsis\n",
    "Evaluate your CNN model from question 1.2 on the test dataset. See assignment spec for details."
   ]
  },
  {
   "cell_type": "code",
   "execution_count": 44,
   "metadata": {},
   "outputs": [
    {
     "name": "stdout",
     "output_type": "stream",
     "text": [
      "4/4 [==============================] - 0s 3ms/step - loss: 1.3967 - accuracy: 0.5096\n",
      "Test results - Loss: 1.3967492580413818 - Accuracy: 0.5096153616905212%\n"
     ]
    }
   ],
   "source": [
    "results = CNN_new.evaluate(val_data)\n",
    "print(f'Test results - Loss: {results[0]} - Accuracy: {results[1]}%')"
   ]
  },
  {
   "cell_type": "markdown",
   "metadata": {},
   "source": [
    "### 3. Visualisation\n",
    "Visualise the feature space that your model uses to classify images. See assignment spec for details."
   ]
  },
  {
   "cell_type": "code",
   "execution_count": null,
   "metadata": {},
   "outputs": [],
   "source": []
  }
 ],
 "metadata": {
  "kernelspec": {
   "display_name": "Python 3.9.4 64-bit",
   "language": "python",
   "name": "python3"
  },
  "language_info": {
   "codemirror_mode": {
    "name": "ipython",
    "version": 3
   },
   "file_extension": ".py",
   "mimetype": "text/x-python",
   "name": "python",
   "nbconvert_exporter": "python",
   "pygments_lexer": "ipython3",
   "version": "3.9.4"
  },
  "vscode": {
   "interpreter": {
    "hash": "81794d4967e6c3204c66dcd87b604927b115b27c00565d3d43f05ba2f3a2cb0d"
   }
  }
 },
 "nbformat": 4,
 "nbformat_minor": 5
}
