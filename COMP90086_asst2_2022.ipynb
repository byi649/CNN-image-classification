{
 "cells": [
  {
   "cell_type": "markdown",
   "metadata": {},
   "source": [
    "## The University of Melbourne, School of Computing and Information Systems\n",
    "# COMP90086 Computer Vision, 2022 Semester 2\n",
    "\n",
    "## Assignment 2"
   ]
  },
  {
   "cell_type": "markdown",
   "metadata": {},
   "source": [
    "**Student Name:**    `PLEASE ENTER YOUR NAME HERE`\n",
    "\n",
    "**Student ID:**     `PLEASE ENTER YOUR ID HERE`"
   ]
  },
  {
   "cell_type": "markdown",
   "metadata": {},
   "source": [
    "## This iPython notebook is a template which you should use for your Assignment 2 submission. This file should be submitted at the **Assignment 2: Code** link on the LMS.\n",
    "\n",
    "In addition to this file, you should submit a written report explaining your results at the **Assignment 2: Report** link on the LMS. Please see the assignment specification for details on what must be included in the report for each question.\n",
    "\n",
    "*Adding proper comments to your code is MANDATORY.*"
   ]
  },
  {
   "cell_type": "markdown",
   "metadata": {},
   "source": [
    "### 1. CNN implementation\n",
    "\n",
    "In this problem, you will implement a CNN to classify the yoga32 dataset. The following code section will load the dataset from a folder that you specify. You may change the batch sizes and validation percentage if you wish, but otherwise it is recommended that you do not modify this section."
   ]
  },
  {
   "cell_type": "code",
   "execution_count": 31,
   "metadata": {
    "scrolled": true
   },
   "outputs": [
    {
     "name": "stdout",
     "output_type": "stream",
     "text": [
      "Found 520 files belonging to 10 classes.\n",
      "Using 416 files for training.\n",
      "Found 520 files belonging to 10 classes.\n",
      "Using 104 files for validation.\n",
      "['bridge', 'childs', 'downwarddog', 'mountain', 'plank', 'seatedforwardbend', 'tree', 'trianglepose', 'warrior1', 'warrior2']\n"
     ]
    }
   ],
   "source": [
    "import tensorflow as tf\n",
    "from tensorflow import keras\n",
    "from tensorflow.keras import layers\n",
    "from tensorflow.keras.models import Model\n",
    "from tensorflow.keras.preprocessing import image\n",
    "import numpy as np\n",
    "import matplotlib.pyplot as plt\n",
    "import matplotlib.cm as cm\n",
    "import math\n",
    "import secrets\n",
    "\n",
    "# Implementing fix from Ed discussion board:\n",
    "# https://edstem.org/au/courses/8647/discussion/993923\n",
    "from tensorflow.python.keras.preprocessing.image_dataset import image_dataset_from_directory\n",
    "\n",
    "data_dir = \"yoga32\"\n",
    "train_batch_size = 32\n",
    "rand_seed = secrets.randbelow(1_000_000_000) # random seed for train/val split\n",
    "# note that same seed must be used for both to ensure no overlap in train/val data\n",
    "\n",
    "# Get training images from 'train' directory\n",
    "train_data = image_dataset_from_directory(\n",
    "    data_dir+'/train',\n",
    "    validation_split=0.2,\n",
    "    subset=\"training\",\n",
    "    seed=rand_seed,\n",
    "    image_size=(32, 32),\n",
    "    batch_size=train_batch_size)\n",
    "\n",
    "# Get validation images from 'train' directory\n",
    "val_data = image_dataset_from_directory(\n",
    "    data_dir+'/train',\n",
    "    validation_split=0.2,\n",
    "    subset=\"validation\",\n",
    "    seed=rand_seed,\n",
    "    image_size=(32, 32),\n",
    "    batch_size=train_batch_size)\n",
    "\n",
    "# Output list of class names\n",
    "class_names = train_data.class_names\n",
    "print(class_names)\n",
    "\n",
    "# Note: To train a model with the dataset loaded above, pass the train and val\n",
    "# datasets to the fit() function, like so:\n",
    "# myCNNmodel.fit(train_data, validation_data=val_data, epochs=number_of_epochs)"
   ]
  },
  {
   "cell_type": "markdown",
   "metadata": {},
   "source": [
    "1.1. Implement the CNN shown in the assignment specification and train it on the provided dataset. Plot the training accuracy and validation accuracy over epochs."
   ]
  },
  {
   "cell_type": "code",
   "execution_count": 36,
   "metadata": {},
   "outputs": [
    {
     "name": "stdout",
     "output_type": "stream",
     "text": [
      "Epoch 1/20\n",
      "13/13 [==============================] - 1s 26ms/step - loss: 2.3109 - accuracy: 0.0913 - val_loss: 2.2982 - val_accuracy: 0.1250\n",
      "Epoch 2/20\n",
      "13/13 [==============================] - 1s 19ms/step - loss: 2.2831 - accuracy: 0.1923 - val_loss: 2.2837 - val_accuracy: 0.2115\n",
      "Epoch 3/20\n",
      "13/13 [==============================] - 0s 19ms/step - loss: 2.2322 - accuracy: 0.2380 - val_loss: 2.2121 - val_accuracy: 0.1923\n",
      "Epoch 4/20\n",
      "13/13 [==============================] - 0s 19ms/step - loss: 2.0557 - accuracy: 0.3077 - val_loss: 2.0430 - val_accuracy: 0.2596\n",
      "Epoch 5/20\n",
      "13/13 [==============================] - 0s 19ms/step - loss: 1.8425 - accuracy: 0.3317 - val_loss: 1.8566 - val_accuracy: 0.3365\n",
      "Epoch 6/20\n",
      "13/13 [==============================] - 0s 19ms/step - loss: 1.6974 - accuracy: 0.3966 - val_loss: 1.7978 - val_accuracy: 0.3173\n",
      "Epoch 7/20\n",
      "13/13 [==============================] - 0s 20ms/step - loss: 1.5752 - accuracy: 0.4615 - val_loss: 1.7187 - val_accuracy: 0.3942\n",
      "Epoch 8/20\n",
      "13/13 [==============================] - 0s 22ms/step - loss: 1.4744 - accuracy: 0.4856 - val_loss: 1.5939 - val_accuracy: 0.4327\n",
      "Epoch 9/20\n",
      "13/13 [==============================] - 0s 21ms/step - loss: 1.3690 - accuracy: 0.5721 - val_loss: 1.5625 - val_accuracy: 0.4231\n",
      "Epoch 10/20\n",
      "13/13 [==============================] - 0s 20ms/step - loss: 1.2941 - accuracy: 0.5817 - val_loss: 1.6303 - val_accuracy: 0.4135\n",
      "Epoch 11/20\n",
      "13/13 [==============================] - 0s 20ms/step - loss: 1.2654 - accuracy: 0.5865 - val_loss: 1.5887 - val_accuracy: 0.4231\n",
      "Epoch 12/20\n",
      "13/13 [==============================] - 0s 20ms/step - loss: 1.2264 - accuracy: 0.5889 - val_loss: 1.4812 - val_accuracy: 0.4519\n",
      "Epoch 13/20\n",
      "13/13 [==============================] - 0s 19ms/step - loss: 1.0992 - accuracy: 0.6442 - val_loss: 1.5701 - val_accuracy: 0.4615\n",
      "Epoch 14/20\n",
      "13/13 [==============================] - 0s 19ms/step - loss: 1.0126 - accuracy: 0.6755 - val_loss: 1.4874 - val_accuracy: 0.5000\n",
      "Epoch 15/20\n",
      "13/13 [==============================] - 0s 20ms/step - loss: 0.9667 - accuracy: 0.6947 - val_loss: 1.5551 - val_accuracy: 0.4904\n",
      "Epoch 16/20\n",
      "13/13 [==============================] - 0s 20ms/step - loss: 0.9041 - accuracy: 0.7139 - val_loss: 1.5050 - val_accuracy: 0.4808\n",
      "Epoch 17/20\n",
      "13/13 [==============================] - 0s 20ms/step - loss: 0.8271 - accuracy: 0.7404 - val_loss: 1.4585 - val_accuracy: 0.5096\n",
      "Epoch 18/20\n",
      "13/13 [==============================] - 0s 20ms/step - loss: 0.7784 - accuracy: 0.7476 - val_loss: 1.6261 - val_accuracy: 0.4808\n",
      "Epoch 19/20\n",
      "13/13 [==============================] - 0s 20ms/step - loss: 0.6884 - accuracy: 0.7885 - val_loss: 1.4739 - val_accuracy: 0.5385\n",
      "Epoch 20/20\n",
      "13/13 [==============================] - 0s 24ms/step - loss: 0.6422 - accuracy: 0.8101 - val_loss: 1.5559 - val_accuracy: 0.5385\n"
     ]
    }
   ],
   "source": [
    "# Implement CNN\n",
    "CNN = keras.Sequential([])\n",
    "CNN.add(layers.InputLayer((32, 32, 3)))\n",
    "CNN.add(layers.experimental.preprocessing.Rescaling(1./255))\n",
    "CNN.add(layers.Conv2D(16, (3, 3), activation=\"relu\"))\n",
    "CNN.add(layers.Conv2D(16, (3, 3), activation=\"relu\"))\n",
    "CNN.add(layers.MaxPool2D((2, 2)))\n",
    "CNN.add(layers.Conv2D(24, (3, 3), activation=\"relu\"))\n",
    "CNN.add(layers.Conv2D(24, (3, 3), activation=\"relu\"))\n",
    "CNN.add(layers.MaxPool2D((2, 2)))\n",
    "CNN.add(layers.Flatten())\n",
    "CNN.add(layers.Dense(10, activation=\"softmax\"))\n",
    "\n",
    "CNN.compile(optimizer='adam',\n",
    "            loss = tf.keras.losses.SparseCategoricalCrossentropy(from_logits=False),\n",
    "            metrics=['accuracy'])\n",
    "\n",
    "# Train CNN\n",
    "history = CNN.fit(train_data, validation_data=val_data, epochs=20)\n",
    "\n",
    "# Plot\n",
    "plt.plot(history.history['accuracy'], label='Train')\n",
    "plt.plot(history.history['val_accuracy'], label='Validation')\n",
    "plt.ylabel('Accuracy')\n",
    "plt.xlabel('Epoch')\n",
    "plt.title('Training and validating accuracy')\n",
    "plt.legend()\n",
    "plt.show()"
   ]
  },
  {
   "cell_type": "markdown",
   "metadata": {},
   "source": [
    "1.2. Modify the CNN (see assignment spec for details) and train it on the provided dataset.  Plot the training accuracy and validation accuracy over epochs."
   ]
  },
  {
   "cell_type": "code",
   "execution_count": 37,
   "metadata": {},
   "outputs": [
    {
     "data": {
      "image/png": "[encoded data removed]",
      "text/plain": [
       "<Figure size 432x288 with 1 Axes>"
      ]
     },
     "metadata": {
      "needs_background": "light"
     },
     "output_type": "display_data"
    }
   ],
   "source": [
    "# Implement CNN_new\n",
    "CNN_new = keras.Sequential([])\n",
    "CNN_new.add(layers.InputLayer((32, 32, 3)))\n",
    "CNN_new.add(layers.experimental.preprocessing.Rescaling(1./255))\n",
    "CNN_new.add(layers.Conv2D(16, (3, 3), activation=\"relu\"))\n",
    "CNN_new.add(layers.Conv2D(16, (3, 3), activation=\"relu\"))\n",
    "CNN_new.add(layers.MaxPool2D((2, 2)))\n",
    "CNN_new.add(layers.Conv2D(24, (3, 3), activation=\"relu\"))\n",
    "CNN_new.add(layers.Conv2D(24, (3, 3), activation=\"relu\"))\n",
    "CNN_new.add(layers.MaxPool2D((2, 2)))\n",
    "CNN_new.add(layers.Flatten())\n",
    "CNN_new.add(layers.Dense(10, activation=\"softmax\"))\n",
    "\n",
    "CNN_new.compile(optimizer='adam',\n",
    "            loss = tf.keras.losses.SparseCategoricalCrossentropy(from_logits=False),\n",
    "            metrics=['accuracy'])\n",
    "\n",
    "# Train CNN\n",
    "history_new = CNN_new.fit(train_data, validation_data=val_data, epochs=20)\n",
    "\n",
    "# Plot\n",
    "plt.plot(history_new.history['accuracy'], label='Train')\n",
    "plt.plot(history_new.history['val_accuracy'], label='Validation')\n",
    "plt.ylabel('Accuracy')\n",
    "plt.xlabel('Epoch')\n",
    "plt.title('Training and validating accuracy')\n",
    "plt.legend()\n",
    "plt.show()"
   ]
  },
  {
   "cell_type": "markdown",
   "metadata": {},
   "source": [
    "### 2. Error anaylsis\n",
    "Evaluate your CNN model from question 1.2 on the test dataset. See assignment spec for details."
   ]
  },
  {
   "cell_type": "code",
   "execution_count": null,
   "metadata": {},
   "outputs": [],
   "source": []
  },
  {
   "cell_type": "markdown",
   "metadata": {},
   "source": [
    "### 3. Visualisation\n",
    "Visualise the feature space that your model uses to classify images. See assignment spec for details."
   ]
  },
  {
   "cell_type": "code",
   "execution_count": null,
   "metadata": {},
   "outputs": [],
   "source": []
  }
 ],
 "metadata": {
  "kernelspec": {
   "display_name": "Python 3.9.4 64-bit",
   "language": "python",
   "name": "python3"
  },
  "language_info": {
   "codemirror_mode": {
    "name": "ipython",
    "version": 3
   },
   "file_extension": ".py",
   "mimetype": "text/x-python",
   "name": "python",
   "nbconvert_exporter": "python",
   "pygments_lexer": "ipython3",
   "version": "3.9.4"
  },
  "vscode": {
   "interpreter": {
    "hash": "81794d4967e6c3204c66dcd87b604927b115b27c00565d3d43f05ba2f3a2cb0d"
   }
  }
 },
 "nbformat": 4,
 "nbformat_minor": 5
}
